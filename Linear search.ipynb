{
 "cells": [
  {
   "cell_type": "code",
   "execution_count": 1,
   "id": "f6208129",
   "metadata": {},
   "outputs": [
    {
     "name": "stdout",
     "output_type": "stream",
     "text": [
      "Enter the list of numbers: 2 3 4 5 6 78 -2\n",
      "The number to search for: -2\n",
      "-2 was found at index 6.\n"
     ]
    }
   ],
   "source": [
    "def linear_search(alist, key):\n",
    "    \"\"\"Return index of key in alist. Return -1 if key not present.\"\"\"\n",
    "    for i in range(len(alist)):\n",
    "        if alist[i] == key:\n",
    "            return i\n",
    "    return -1\n",
    " \n",
    " \n",
    "alist = input('Enter the list of numbers: ')\n",
    "alist = alist.split()\n",
    "alist = [int(x) for x in alist]\n",
    "key = int(input('The number to search for: '))\n",
    " \n",
    "index = linear_search(alist, key)\n",
    "if index < 0:\n",
    "    print('{} was not found.'.format(key))\n",
    "else:\n",
    "    print('{} was found at index {}.'.format(key, index))"
   ]
  },
  {
   "cell_type": "markdown",
   "id": "ae245991",
   "metadata": {},
   "source": [
    "Linear Search is defined as a sequential search algorithm that starts at one end and goes through each element of a list until the desired element is found, otherwise the search continues till the end of the data set. It is the easiest searching algorithm. It is widely used to search an element from the unordered list, i.e., the list in which items are not sorted. The worst-case time complexity of linear search is O(n).\n",
    "\n",
    "Follow the given steps to solve the problem:\n",
    "\n",
    "Start from the leftmost element of arr[] and one by one compare x with each element of arr[]\n",
    "If x matches with an element, return the index.\n",
    "If x doesn’t match with any of the elements, return -1.\n",
    "\n",
    "Program Explanation\n",
    "1. The user is prompted to enter a list of numbers.\n",
    "2. The user is then asked to enter a key to search for.\n",
    "3. The list and key is passed to linear_search.\n",
    "4. If the return value is -1, the key is not found and a message is displayed, otherwise the index of the found item is displayed."
   ]
  }
 ],
 "metadata": {
  "kernelspec": {
   "display_name": "Python 3 (ipykernel)",
   "language": "python",
   "name": "python3"
  },
  "language_info": {
   "codemirror_mode": {
    "name": "ipython",
    "version": 3
   },
   "file_extension": ".py",
   "mimetype": "text/x-python",
   "name": "python",
   "nbconvert_exporter": "python",
   "pygments_lexer": "ipython3",
   "version": "3.10.2"
  }
 },
 "nbformat": 4,
 "nbformat_minor": 5
}
