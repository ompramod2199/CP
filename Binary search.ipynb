{
 "cells": [
  {
   "cell_type": "code",
   "execution_count": 3,
   "id": "0d096bf8",
   "metadata": {},
   "outputs": [
    {
     "name": "stdout",
     "output_type": "stream",
     "text": [
      "Element is present at index 4\n"
     ]
    }
   ],
   "source": [
    "# Iterative Binary Search Function method Python Implementation  \n",
    "# It returns index of n in given list1 if present,   \n",
    "# else returns -1   \n",
    "def binary_search(list1, n):  \n",
    "    low = 0  \n",
    "    high = len(list1) - 1  \n",
    "    mid = 0  \n",
    "  \n",
    "    while low <= high:  \n",
    "        # for get integer result   \n",
    "        mid = (high + low) // 2  \n",
    "  \n",
    "        # Check if n is present at mid   \n",
    "        if list1[mid] < n:  \n",
    "            low = mid + 1  \n",
    "  \n",
    "        # If n is greater, compare to the right of mid   \n",
    "        elif list1[mid] > n:  \n",
    "            high = mid - 1  \n",
    "  \n",
    "        # If n is smaller, compared to the left of mid  \n",
    "        else:  \n",
    "            return mid  \n",
    "  \n",
    "            # element was not present in the list, return -1  \n",
    "    return -1  \n",
    "  \n",
    "  \n",
    "# Initial list1  \n",
    "list1 = [12, 24, 32, 39, 45, 50, 54]  \n",
    "n = 45  \n",
    "  \n",
    "# Function call   \n",
    "result = binary_search(list1, n)  \n",
    "  \n",
    "if result != -1:  \n",
    "    print(\"Element is present at index\", str(result))  \n",
    "else:  \n",
    "    print(\"Element is not present in list1\")  "
   ]
  },
  {
   "cell_type": "markdown",
   "id": "3dd48a2a",
   "metadata": {},
   "source": [
    "Explanation:\n",
    "\n",
    "In the above program -\n",
    "\n",
    "We have created a function called binary_search() function which takes two arguments - a list to sorted and a number to be searched.\n",
    "We have declared two variables to store the lowest and highest values in the list. The low is assigned initial value to 0, high to len(list1) - 1 and mid as 0.\n",
    "Next, we have declared the while loop with the condition that the lowest is equal and smaller than the highest The while loop will iterate if the number has not been found yet.\n",
    "In the while loop, we find the mid value and compare the index value to the number we are searching for.\n",
    "If the value of the mid-index is smaller than n, we increase the mid value by 1 and assign it to The search moves to the left side.\n",
    "Otherwise, decrease the mid value and assign it to the high. The search moves to the right side.\n",
    "If the n is equal to the mid value then return mid.\n",
    "This will happen until the low is equal and smaller than the high.\n",
    "If we reach at the end of the function, then the element is not present in the list. We return -1 to the calling function.\n",
    "\n",
    "Searching is the process of finding some particular element in the list. If the element is present in the list, then the process is called successful, and the process returns the location of that element. Otherwise, the search is called unsuccessful.\n",
    "\n",
    "Linear Search and Binary Search are the two popular searching techniques. Here we will discuss the Binary Search Algorithm.\n",
    "\n",
    "Binary search is the search technique that works efficiently on sorted lists. Hence, to search an element into some list using the binary search technique, we must ensure that the list is sorted.\n",
    "\n",
    "Binary search follows the divide and conquer approach in which the list is divided into two halves, and the item is compared with the middle element of the list. If the match is found then, the location of the middle element is returned. Otherwise, we search into either of the halves depending upon the result produced through the match."
   ]
  }
 ],
 "metadata": {
  "kernelspec": {
   "display_name": "Python 3 (ipykernel)",
   "language": "python",
   "name": "python3"
  },
  "language_info": {
   "codemirror_mode": {
    "name": "ipython",
    "version": 3
   },
   "file_extension": ".py",
   "mimetype": "text/x-python",
   "name": "python",
   "nbconvert_exporter": "python",
   "pygments_lexer": "ipython3",
   "version": "3.10.2"
  }
 },
 "nbformat": 4,
 "nbformat_minor": 5
}
